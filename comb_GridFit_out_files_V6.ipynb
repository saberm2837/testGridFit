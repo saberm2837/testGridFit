{
 "cells": [
  {
   "cell_type": "markdown",
   "id": "2f8b0579-07a5-42e9-aa01-15d4679791bb",
   "metadata": {},
   "source": [
    "# Initialize parameters"
   ]
  },
  {
   "cell_type": "code",
   "execution_count": 1,
   "id": "ac52d606-8cc7-4bfd-bd6a-501499a92463",
   "metadata": {},
   "outputs": [
    {
     "data": {
      "text/plain": [
       "19-element Vector{String}:\n",
       " \"sub\"\n",
       " \"points\"\n",
       " \"run\"\n",
       " \"avgErr_dist_0to20\"\n",
       " \"stdErr_dist_0to20\"\n",
       " \"maxErr_dist_0to20\"\n",
       " \"count_dist_0to20\"\n",
       " \"avgErr_dist_20to40\"\n",
       " \"stdErr_dist_20to40\"\n",
       " \"maxErr_dist_20to40\"\n",
       " \"count_dist_20to40\"\n",
       " \"avgErr_dist_40to60\"\n",
       " \"stdErr_dist_40to60\"\n",
       " \"maxErr_dist_40to60\"\n",
       " \"count_dist_40to60\"\n",
       " \"avgErr_dist_60plus\"\n",
       " \"stdErr_dist_60plus\"\n",
       " \"maxErr_dist_60plus\"\n",
       " \"count_dist_60plus\""
      ]
     },
     "execution_count": 1,
     "metadata": {},
     "output_type": "execute_result"
    }
   ],
   "source": [
    "using DataFrames\n",
    "using CSV \n",
    "using JSON3\n",
    "using JLD2\n",
    "ver = \"V7\"\n",
    "sub_n=6\n",
    "file_suffix = [\"OptCoords\",\"FixedCoords\",\"ErrbyDist\"] # Three different file suffixes\n",
    "\n",
    "df_header = [\"sub\",\"points\",\"run\",\n",
    "    \"avgErr_dist_0to20\",\"stdErr_dist_0to20\", \"maxErr_dist_0to20\",\"count_dist_0to20\",\n",
    "    \"avgErr_dist_20to40\",\"stdErr_dist_20to40\", \"maxErr_dist_20to40\",\"count_dist_20to40\",\n",
    "    \"avgErr_dist_40to60\",\"stdErr_dist_40to60\", \"maxErr_dist_40to60\",\"count_dist_40to60\",\n",
    "    \"avgErr_dist_60plus\",\"stdErr_dist_60plus\", \"maxErr_dist_60plus\",\"count_dist_60plus\"] "
   ]
  },
  {
   "cell_type": "markdown",
   "id": "d6a5ad7d-b3b0-492a-8315-255f8361d20d",
   "metadata": {},
   "source": [
    "# Read data from file"
   ]
  },
  {
   "cell_type": "code",
   "execution_count": 2,
   "id": "2caee044-ab62-473d-8679-aab3cae513cd",
   "metadata": {},
   "outputs": [
    {
     "data": {
      "text/plain": [
       "comb_data_by_points (generic function with 1 method)"
      ]
     },
     "execution_count": 2,
     "metadata": {},
     "output_type": "execute_result"
    }
   ],
   "source": [
    "# Modify this section\n",
    "function comb_data_by_points(sub_n::Int64,points::Int64)\n",
    "    # The total file count is set to [0, 0, 0]\n",
    "    file_count = zeros(Int,3)\n",
    "    # Initialize two dictionaries to store optimal coordinates and fixed coordinates, respectively\n",
    "    opt_coords = Dict()\n",
    "    fixed_coords = Dict()\n",
    "    # Initialize data frame with appropriate column names\n",
    "    comb_data = DataFrame([[],[],[],[],[],[],[],[],[],[],[],[],[],[],[],[],[],[],[]], df_header)\n",
    "    for nRuns in 1:100\n",
    "        for file_type in 1:3 # Three choices [1 means OptCoords, 2 means FixedCoords, and 3 means Err]\n",
    "            # Check if the file containing opt/fixed/err exists\n",
    "                if(isfile(\"sub\"*string(sub_n)*\"_pt\"*string(points)*\"_run\"*string(nRuns)*\"_GridFit\"*file_suffix[file_type]*\".csv\"))\n",
    "                # Read the data from the CSV file\n",
    "                data = DataFrame(CSV.File(\"sub\"*string(sub_n)*\"_pt\"*string(points)*\"_run\"*string(nRuns)*\"_GridFit\"*file_suffix[file_type]*\".csv\"))\n",
    "                if (file_type == 3)\n",
    "                    append!(comb_data,data)\n",
    "                else\n",
    "                    # Convert data frame into a dictionary\n",
    "                    grid_data = Dict(Pair.(data[!,\"first\"], data[!,\"second\"]))\n",
    "                    # Sort the dictionary by key and store it in another dictionary \n",
    "                    if (file_type == 1)\n",
    "                        opt_coords[file_count[file_type]+1] = sort(grid_data)\n",
    "                    else\n",
    "                        fixed_coords[file_count[file_type]+1] = sort(grid_data)\n",
    "                    end\n",
    "                end\n",
    "                file_count[file_type]+=1\n",
    "            end  \n",
    "        end\n",
    "    end\n",
    "    return fixed_coords, opt_coords, comb_data\n",
    "end"
   ]
  },
  {
   "cell_type": "markdown",
   "id": "29f95e82-ec93-4a54-b735-24df1d0f6b2a",
   "metadata": {},
   "source": [
    "# Store data in disk"
   ]
  },
  {
   "cell_type": "code",
   "execution_count": 3,
   "id": "f96e83bb-1915-4e32-a677-0d67773bbc70",
   "metadata": {},
   "outputs": [
    {
     "data": {
      "text/plain": [
       "save_comb_data_by_points (generic function with 1 method)"
      ]
     },
     "execution_count": 3,
     "metadata": {},
     "output_type": "execute_result"
    }
   ],
   "source": [
    "function save_comb_data_by_points(sub_n::Int64,points::Int64,fixed_coords::Dict{Any,Any},opt_coords::Dict{Any,Any},errors::DataFrame)\n",
    "    # Define file names\n",
    "    csv_fname = \"sub\"*string(sub_n)*\"_pt\"*string(points)*\"_GridFitErr_\"*ver*\".csv\"\n",
    "    json_fname = \"sub\"*string(sub_n)*\"_pt\"*string(points)*\"_GridFitCoords_\"*ver*\".json\"\n",
    "    hd5_fname = \"results_GridFit_\"*ver*\".jld2\"\n",
    "\n",
    "    fname = [csv_fname, json_fname, hd5_fname]  \n",
    "    \n",
    "    for f in fname\n",
    "        if (occursin(\".csv\",f))\n",
    "            # Save the data in CSV format\n",
    "            CSV.write(f, errors)\n",
    "        elseif (occursin(\".json\",f)) \n",
    "            # Save the file in JSON format\n",
    "            file_type = 2\n",
    "            # Merge two dictionaries (opt_coords and fixed_coords)\n",
    "            coords_all = Dict(\"FixedCoords\" => sort(fixed_coords), \"OptCoords\" => sort(opt_coords))\n",
    "            open(json_fname, \"w\") do f\n",
    "                JSON3.pretty(f, JSON3.write(coords_all))\n",
    "            end\n",
    "        else\n",
    "            # save the data in HD5 format\n",
    "            fixed_coords = sort(fixed_coords)\n",
    "            opt_coords = sort(opt_coords)\n",
    "            \n",
    "            jldopen(f,\"a+\") do file\n",
    "                file[\"sub\"*string(sub_n)*\"/pt\"*string(points)*\"/fixed_coords\"] = sort(fixed_coords)\n",
    "                file[\"sub\"*string(sub_n)*\"/pt\"*string(points)*\"/opt_coords\"] = sort(opt_coords)\n",
    "                file[\"sub\"*string(sub_n)*\"/pt\"*string(points)*\"/errors\"] = errors\n",
    "            end\n",
    "        end\n",
    "    end\n",
    "end"
   ]
  },
  {
   "cell_type": "markdown",
   "id": "5f6f1925-c712-4a28-a4ee-2570f0f6dbdb",
   "metadata": {},
   "source": [
    "# Combine all error data by subject"
   ]
  },
  {
   "cell_type": "code",
   "execution_count": 4,
   "id": "cdd5b0ee-7ac9-47ce-a6b5-f59ae3b7c926",
   "metadata": {},
   "outputs": [
    {
     "data": {
      "text/plain": [
       "\"sub6_GridFitErr_V7_ext.csv\""
      ]
     },
     "execution_count": 4,
     "metadata": {},
     "output_type": "execute_result"
    }
   ],
   "source": [
    "# Run all\n",
    "err_type = 3\n",
    "#for sub_n in [1,2,3,5,6]\n",
    "    # Initialize data frame with appropriate column names\n",
    "    comb_data_by_sub = DataFrame([[],[],[],[],[],[],[],[],[],[],[],[],[],[],[],[],[],[],[]], df_header)\n",
    "    for points in [3,4,5,6,7,8,9,11,13,15]\n",
    "    #points = 3\n",
    "        data_by_points = comb_data_by_points(sub_n,points)\n",
    "        save_comb_data_by_points(sub_n,points,data_by_points[1],data_by_points[2],data_by_points[3])\n",
    "        \n",
    "        # Append all data here and save in JSON/CSV format\n",
    "        append!(comb_data_by_sub,data_by_points[err_type])\n",
    "    end\n",
    "    # Write combined error data to a CSV file\n",
    "    if !(isempty(comb_data_by_sub))\n",
    "        CSV.write(\"sub\"*string(sub_n)*\"_GridFitErr_\"*ver*\".csv\", comb_data_by_sub)     \n",
    "    end\n",
    "#end"
   ]
  },
  {
   "cell_type": "markdown",
   "id": "3c69fd57-7554-490c-8a6c-9c1df12ed04e",
   "metadata": {},
   "source": [
    "# Verify the HD5 file that contains all data in one place"
   ]
  },
  {
   "cell_type": "code",
   "execution_count": 5,
   "id": "ff18efda-b213-4c9b-ac92-a31e9bbf58c6",
   "metadata": {},
   "outputs": [
    {
     "data": {
      "text/plain": [
       "JLDFile /mnt/data/msaber/git/data/GridFit_dataV7_ext/results_sub6/results_GridFit_V7_ext.jld2 (read-only)\n",
       " ├─📂 sub1\n",
       " │  ├─📂 pt3\n",
       " │  │  ├─🔢 fixed_coords\n",
       " │  │  ├─🔢 opt_coords\n",
       " │  │  └─🔢 errors\n",
       " │  ├─📂 pt4\n",
       " │  │  ├─🔢 fixed_coords\n",
       " │  │  └─ ⋯ (2 more entries)\n",
       " │  └─ ⋯ (8 more entries)\n",
       " └─ ⋯ (4 more entries)"
      ]
     },
     "execution_count": 5,
     "metadata": {},
     "output_type": "execute_result"
    }
   ],
   "source": [
    "hd5_fname = \"results_GridFit_\"*ver*\".jld2\"\n",
    "file = jldopen(hd5_fname, \"r\")"
   ]
  }
 ],
 "metadata": {
  "kernelspec": {
   "display_name": "Julia 1.9.0",
   "language": "julia",
   "name": "julia-1.9"
  },
  "language_info": {
   "file_extension": ".jl",
   "mimetype": "application/julia",
   "name": "julia",
   "version": "1.9.0"
  }
 },
 "nbformat": 4,
 "nbformat_minor": 5
}
